{
 "cells": [
  {
   "cell_type": "code",
   "execution_count": 1,
   "id": "31c3fb9b",
   "metadata": {},
   "outputs": [],
   "source": [
    "from PIL import Image\n",
    "import glob\n",
    "import numpy as np\n",
    "import os\n",
    "import shutil \n",
    "\n",
    "files = glob.glob('/home/mhr/Downloads/SDNET2018/cracked/*.jpg')\n",
    "inds = np.random.permutation(len(files))\n",
    "inds_te = inds[:len(files)//5]\n",
    "inds_tr = inds[len(files)//5:]\n",
    "\n",
    "os.mkdir('/home/mhr/Downloads/SDNET2018/train/')\n",
    "os.mkdir('/home/mhr/Downloads/SDNET2018/test/')\n",
    "os.mkdir('/home/mhr/Downloads/SDNET2018/train/cracked/')\n",
    "os.mkdir('/home/mhr/Downloads/SDNET2018/test/cracked/')\n",
    "\n",
    "for ind in inds_tr:\n",
    "    shutil.move(files[ind], '/home/mhr/Downloads/SDNET2018/train/cracked/' + files[ind].split('/')[-1])\n",
    "\n",
    "for ind in inds_te:\n",
    "    shutil.move(files[ind], '/home/mhr/Downloads/SDNET2018/test/cracked/' + files[ind].split('/')[-1])\n",
    "\n",
    "\n",
    "files = glob.glob('/home/mhr/Downloads/SDNET2018/noncracked/*.jpg')\n",
    "inds = np.random.permutation(len(files))\n",
    "inds_te = inds[:len(files)//5]\n",
    "inds_tr = inds[len(files)//5:]\n",
    "\n",
    "os.mkdir('/home/mhr/Downloads/SDNET2018/train/noncracked/')\n",
    "os.mkdir('/home/mhr/Downloads/SDNET2018/test/noncracked/')\n",
    "\n",
    "for ind in inds_tr:\n",
    "    shutil.move(files[ind], '/home/mhr/Downloads/SDNET2018/train/noncracked/' + files[ind].split('/')[-1])\n",
    "\n",
    "for ind in inds_te:\n",
    "    shutil.move(files[ind], '/home/mhr/Downloads/SDNET2018/test/noncracked/' + files[ind].split('/')[-1])\n"
   ]
  },
  {
   "cell_type": "code",
   "execution_count": null,
   "id": "ab28bf2b",
   "metadata": {},
   "outputs": [],
   "source": []
  }
 ],
 "metadata": {
  "kernelspec": {
   "display_name": "Python 3 (ipykernel)",
   "language": "python",
   "name": "python3"
  },
  "language_info": {
   "codemirror_mode": {
    "name": "ipython",
    "version": 3
   },
   "file_extension": ".py",
   "mimetype": "text/x-python",
   "name": "python",
   "nbconvert_exporter": "python",
   "pygments_lexer": "ipython3",
   "version": "3.8.17"
  }
 },
 "nbformat": 4,
 "nbformat_minor": 5
}
